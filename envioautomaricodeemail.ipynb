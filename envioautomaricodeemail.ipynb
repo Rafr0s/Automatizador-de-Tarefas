{
 "cells": [
  {
   "cell_type": "code",
   "execution_count": 1,
   "id": "b94d6199",
   "metadata": {},
   "outputs": [
    {
     "data": {
      "text/plain": [
       "'OK'"
      ]
     },
     "execution_count": 1,
     "metadata": {},
     "output_type": "execute_result"
    }
   ],
   "source": [
    "import pyautogui\n",
    "import time\n",
    "\n",
    "pyautogui.alert(\"O código vai começar, NÃO use nada do seu computador enquanto o código estiver rodando\")\n",
    "pyautogui.PAUSE = 0.5\n",
    "\n",
    "# abrir o google Chrome no meu computador\n",
    "pyautogui.press('winleft')\n",
    "pyautogui.write('Chrome')\n",
    "pyautogui.press('enter')\n",
    "time.sleep(1)\n",
    "pyautogui.write('https://mail.google.com/mail/u/0/#inbox')\n",
    "pyautogui.press('enter')\n",
    "\n",
    "# Clicar em escrever e-mail\n",
    "pyautogui.moveTo(77, 202)\n",
    "time.sleep(2)\n",
    "pyautogui.click(clicks=1)\n",
    "\n",
    "# Escrevendo e enviando o e-mail\n",
    "pyautogui.write('rafros@gmail.com')\n",
    "pyautogui.press('tab')\n",
    "pyautogui.press('tab')\n",
    "pyautogui.write('E-mail teste')\n",
    "pyautogui.press('tab')\n",
    "pyautogui.write('Teste 123!!!')\n",
    "time.sleep(3)\n",
    "pyautogui.hotkey('ctrlleft','enter')\n",
    "pyautogui.alert(\"E-mail enviado com sucesso!\")"
   ]
  },
  {
   "cell_type": "code",
   "execution_count": null,
   "id": "480578e0",
   "metadata": {},
   "outputs": [],
   "source": []
  },
  {
   "cell_type": "code",
   "execution_count": null,
   "id": "0e721566",
   "metadata": {},
   "outputs": [],
   "source": []
  }
 ],
 "metadata": {
  "kernelspec": {
   "display_name": "Python 3",
   "language": "python",
   "name": "python3"
  },
  "language_info": {
   "codemirror_mode": {
    "name": "ipython",
    "version": 3
   },
   "file_extension": ".py",
   "mimetype": "text/x-python",
   "name": "python",
   "nbconvert_exporter": "python",
   "pygments_lexer": "ipython3",
   "version": "3.8.8"
  }
 },
 "nbformat": 4,
 "nbformat_minor": 5
}
